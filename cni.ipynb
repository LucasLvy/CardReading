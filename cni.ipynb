{
 "cells": [
  {
   "cell_type": "markdown",
   "metadata": {},
   "source": [
    "# Lecture des informations d'une carte d'identité\n",
    "L'objectif de ce script est d'arriver à extraire les informations d'une carte d'identité à partir d'une photo.\n",
    "Si l'arrière plan est uni, alors le script fonctionnera correctement. En revanche, si le fond est composé de couleurs bien distinctes et que ces couleurs collent la carte, le script ne détectera pas correctement les contours et corrigera alors très mal la perspective ou éventuellement en créera ce qui la rendra illisible pour pytesseract"
   ]
  },
  {
   "cell_type": "code",
   "execution_count": 1,
   "metadata": {},
   "outputs": [],
   "source": [
    "import numpy as np\n",
    "import cv2\n",
    "from os import makedirs\n",
    "from os import path\n",
    "import pytesseract"
   ]
  },
  {
   "cell_type": "markdown",
   "metadata": {},
   "source": [
    "## Transformation de l'image\n",
    "Teste la validité des contours trouvés par opencv. Si le contour fait moins de 20% de la taille de l'image originale on considèrera que le contour n'est pas validé car trop petit et ce contour sera sûrement celui d'une des lettres sur la carte d'identité ou un détail inutile. En revanche si le contour fait plus de 95% de l'image on supposera qu'opencv n'a pas trouvé les contours de la carte d'identité ou alors la correction de perspective est inutile car il n'y a pas de perspective sur la photo."
   ]
  },
  {
   "cell_type": "code",
   "execution_count": 12,
   "metadata": {},
   "outputs": [],
   "source": [
    "def testContourValidity(contour, full_width, full_height):\n",
    "    \"\"\"On prend une valeur max du contour de 95% de la photo originale\"\"\"\n",
    "    max_threshold = 0.95\n",
    "    \"\"\"On prend une valeur min du contour de 20% de la photo originale pour eviter qu'il ne considère \n",
    "    tous les petits contours créés par les lettres ainsi que par les sections dans la carte. Cette valeur \n",
    "    peut être ajustée en fonction de la photo mais globalement elle fonctionne bien\"\"\"\n",
    "    min_threshold = 0.2\n",
    "    min_area = full_width * full_height * min_threshold\n",
    "    max_area = full_width * full_height * max_threshold\n",
    "    max_width = full_width * max_threshold\n",
    "    max_height = full_height * max_threshold  # *\n",
    "    min_width = min_threshold * full_width\n",
    "    min_height = min_threshold * full_height\n",
    "    size = cv2.contourArea(contour)\n",
    "    # Area\n",
    "    if size < min_area:\n",
    "        return False\n",
    "    if size > max_area:\n",
    "        return False\n",
    "\n",
    "    \"\"\"J'utilise la fonction min rect area car elle prend le rectangle orienté qui englobe tout le contour ce \n",
    "    qui permet d'avoir une aire plus réaliste si les contours ne sont pas exacts \n",
    "    (voir cellule du dessous pour précision)\"\"\"\n",
    "    rect = cv2.minAreaRect(contour)\n",
    "\n",
    "    box = cv2.boxPoints(rect)\n",
    "\n",
    "    box = np.int0(box)\n",
    "    (tl, tr, br, bl) = sort_points(box)\n",
    "    \"\"\"calcul de la taille du rectangle trouvé\"\"\"\n",
    "    box_width = int(((br[0] - bl[0]) + (tr[0] - tl[0])) / 2)\n",
    "    box_height = int(((br[1] - tr[1]) + (bl[1] - tl[1])) / 2)\n",
    "    \"\"\"le and peut etre laissé mais dans certain cas il sera moins performant que cette organisation pour les if\"\"\"\n",
    "    if box_width < min_width: #and box_height < min_height:\n",
    "        return False\n",
    "    if box_height < min_height:\n",
    "        return False\n",
    "    if box_width > max_width: #and box_height > max_height:\n",
    "        return False\n",
    "    if box_height > max_height:\n",
    "        return False\n",
    "    return True\n"
   ]
  },
  {
   "cell_type": "raw",
   "metadata": {},
   "source": [
    "Sur cette photo si on prend uniquement l'air de la figure en vert le contour pourrait-être considéré comme trop petit alors que si on prend le rectangle qui entoure ce contour l'aire sera validée "
   ]
  },
  {
   "cell_type": "markdown",
   "metadata": {},
   "source": [
    "<img src=\"files/explication.jpg\">"
   ]
  },
  {
   "cell_type": "raw",
   "metadata": {},
   "source": [
    "Cette fonction va traiter l'image afin de faciliter la détection de contours à opencv. On va commencer par supprimer les ombres de la photo, ensuite on applique un filtre de canny pour ne garder que les potentiels contours, on applique un flou gaussien pour que les contours soient plus lisses et on applique un seuillage à  cette image.\n",
    "On cherche ensuite les contours lorsqu'on a trouvé le plus grand contour valide et on prend le polygone qui approxime ce contour. J'ai choisi d'enregistrer les images apres chaque étape pour faciliter la compréhension du traitement de l'image et pour voir où les problèmes survenaient."
   ]
  },
  {
   "cell_type": "code",
   "execution_count": 24,
   "metadata": {},
   "outputs": [],
   "source": [
    "def find_square(im, f):\n",
    "    # Width and height for validity check\n",
    "    h = np.size(im, 0)\n",
    "    w = np.size(im, 1)\n",
    "\n",
    "    \"\"\"shadow removal\"\"\"\n",
    "    img = cv2.imread('source_images/' + f, -1)\n",
    "\n",
    "    rgb_planes = cv2.split(img)\n",
    "\n",
    "    result_norm_planes = []\n",
    "\n",
    "    for plane in rgb_planes:\n",
    "        dilated_img = cv2.dilate(plane, np.ones((7, 7), np.uint8))\n",
    "\n",
    "        bg_img = cv2.medianBlur(dilated_img, 21)\n",
    "\n",
    "        diff_img = 255 - cv2.absdiff(plane, bg_img)\n",
    "\n",
    "        norm_img = cv2.normalize(diff_img, None, alpha=0, beta=255, norm_type=cv2.NORM_MINMAX, dtype=cv2.CV_8UC1)\n",
    "\n",
    "        result_norm_planes.append(norm_img)\n",
    "\n",
    "    result_norm = cv2.merge(result_norm_planes)\n",
    "    \"\"\"save the shadow removed picture\"\"\"\n",
    "    debug_image(result_norm, 'preprocess_shadow', f)\n",
    "    #result_norm=cv2.imread('source_images/' + f, 0)\n",
    "    result_norm = cv2.Canny(result_norm, 100, 255)\n",
    "    \"\"\"save the canny picture\"\"\"\n",
    "    debug_image(result_norm, 'preprocess_canny', f)\n",
    "    blur = cv2.GaussianBlur(result_norm, (5, 5), 0)\n",
    "    debug_image(blur, 'preprocess_blur', f)\n",
    "    ret, thresh = cv2.threshold(blur, 100, 255, cv2.THRESH_BINARY + cv2.THRESH_OTSU)\n",
    "    \"\"\"Tentative d'utilisation des Hough lines mais pas très concluant car la carte d'identité \n",
    "    a trop de motifs à l'intérieur cependant peut sûrement être utilisé pour remplir la carte \n",
    "    d'une couleur et détecter les contours\"\"\"\n",
    "    linesP = cv2.HoughLinesP(thresh, 1500, np.pi /360, 50, None, 100, 50)\n",
    "\n",
    "    if linesP is not None:\n",
    "        for i in range(0, len(linesP)):\n",
    "            l = linesP[i][0]\n",
    "            cv2.line(result_norm, (l[0], l[1]), (l[2], l[3]), (255, 255, 255), 3, cv2.LINE_AA)\n",
    "    cv2.imwrite('lines.jpg',result_norm)\n",
    "    debug_image(thresh, 'preprocess_thresh', f)\n",
    "    contours, hierarchy = cv2.findContours(thresh, cv2.RETR_TREE, cv2.CHAIN_APPROX_SIMPLE)\n",
    "\n",
    "    im_debug = im.copy()\n",
    "    \"\"\"Recherche du contour le plus grand\"\"\"\n",
    "    max = None\n",
    "    i = 0\n",
    "    for x in contours:\n",
    "        if testContourValidity(x, w, h ):\n",
    "            i += 1\n",
    "            im_debug = cv2.drawContours(im_debug, [x], -1, (0, 255, 0), 3)\n",
    "            if max is None or cv2.contourArea(max) > cv2.contourArea(x):\n",
    "                max = x\n",
    "\n",
    "    \"\"\"Premiere tentative d'approximation des contours en une forme géométrique mais cette fonction ne fait que \n",
    "    des rectangles ce qui ne permet pas de corriger la perspective elle permet seulement de corriger une rotation\"\"\"\n",
    "    #rect = cv2.minAreaRect(max)\n",
    "    \"\"\"Je ne cherche pas un polygone fermé je cherche uniquement à trouver les coins. S'il détecte les \n",
    "    contours en entier tant mieux mais ce n'est pas obligatoire\"\"\"\n",
    "    rect=cv2.approxPolyDP(max, 0.01*cv2.arcLength(max, False), False)\n",
    "    im_debug = cv2.drawContours(im_debug, [max], -1, (0, 0, 255), 3)\n",
    "    \"\"\"contours trouvés par opencv\"\"\"\n",
    "    debug_image(im_debug, 'contour', f)\n",
    "    \"\"\"approximation des contours par le polygone\"\"\"\n",
    "    debug_image(cv2.drawContours(im.copy(),rect, -1,(0,255,0),10),'polygone',f)\n",
    "    #box = cv2.boxPoints(rect)\n",
    "    #box = np.int0(box)\n",
    "    \"\"\"transformation du tableau rect en un tableau du format adéquat pour etre traité plus tard\"\"\"\n",
    "    box=[]\n",
    "    for i in range(len(rect)):\n",
    "        box.append(rect[i][0])\n",
    "    box=np.array(box)\n",
    "    return box"
   ]
  },
  {
   "cell_type": "raw",
   "metadata": {},
   "source": [
    "Ces 3 fonctions permettent de calculer les distances plus facilement afin de trouver les coins du polygone"
   ]
  },
  {
   "cell_type": "code",
   "execution_count": 25,
   "metadata": {},
   "outputs": [],
   "source": [
    "def diff(a, b):\n",
    "    return (a - b) ** 2"
   ]
  },
  {
   "cell_type": "code",
   "execution_count": 26,
   "metadata": {},
   "outputs": [],
   "source": [
    "def adist(a, b):\n",
    "    return np.sqrt(diff(a[0], b[0]) + diff(a[1], b[1]))\n"
   ]
  },
  {
   "cell_type": "code",
   "execution_count": 27,
   "metadata": {},
   "outputs": [],
   "source": [
    "def max_distance(a1, a2, b1, b2):\n",
    "    dist1 = adist(a1, a2)\n",
    "    dist2 = adist(b1, b2)\n",
    "    if int(dist2) < int(dist1):\n",
    "        return int(dist1)\n",
    "    else:\n",
    "        return int(dist2)"
   ]
  },
  {
   "cell_type": "raw",
   "metadata": {},
   "source": [
    "Trouve les 4 coins dans un tableau de points et les met dans le sens horaire en partant du coin en haut à gauche"
   ]
  },
  {
   "cell_type": "code",
   "execution_count": 28,
   "metadata": {},
   "outputs": [],
   "source": [
    "def sort_points(pts):\n",
    "    ret = np.zeros((4, 2), dtype=\"float32\")\n",
    "    sumF = pts.sum(axis=1)\n",
    "    diffF = np.diff(pts, axis=1)\n",
    "    ret[0] = pts[np.argmin(sumF)]\n",
    "    ret[1] = pts[np.argmin(diffF)]\n",
    "    ret[2] = pts[np.argmax(sumF)]\n",
    "    ret[3] = pts[np.argmax(diffF)]\n",
    "    return ret\n"
   ]
  },
  {
   "cell_type": "raw",
   "metadata": {},
   "source": [
    "Corrige la perspective de l'image"
   ]
  },
  {
   "cell_type": "code",
   "execution_count": 29,
   "metadata": {},
   "outputs": [],
   "source": [
    "def fix_perspective(image, pts):\n",
    "    \"\"\"trouve les 4 coins du polygone\"\"\"\n",
    "    (tl, tr, br, bl) = sort_points(pts)\n",
    "    \"\"\"cherche la hauteur max entre les coins qui deviendra la hauteur de la nouvelle image\"\"\"\n",
    "    maxW = max_distance(br, bl, tr, tl)\n",
    "    \"\"\"cherche la longeur max entre les coins qui deviendra la largeur de la nouvelle image\"\"\"\n",
    "    maxH = max_distance(tr, br, tl, bl)\n",
    "    \"\"\"tableau contenant les coordonnées des 4 coins dans l'image de destination\"\"\"\n",
    "    dst = np.array([[0, 0], [maxW - 1, 0], [maxW - 1, maxH - 1], [0, maxH - 1]], dtype=\"float32\")\n",
    "    \"\"\"corrige la perspective\"\"\"\n",
    "    transform = cv2.getPerspectiveTransform(np.array([tl, tr, br, bl], dtype=\"float32\"), dst)\n",
    "    fixed = cv2.warpPerspective(image, transform, (maxW, maxH))\n",
    "    return fixed\n"
   ]
  },
  {
   "cell_type": "raw",
   "metadata": {},
   "source": [
    "Sauvegarde l'image dans le dossier spécifié"
   ]
  },
  {
   "cell_type": "code",
   "execution_count": 30,
   "metadata": {},
   "outputs": [],
   "source": [
    "def debug_image(img, extra_path, filename):\n",
    "    fpath = \"debug/\" + extra_path + \"/\"\n",
    "    if not path.isdir(fpath):\n",
    "        makedirs(fpath)\n",
    "    cv2.imwrite(fpath + filename, img)\n"
   ]
  },
  {
   "cell_type": "code",
   "execution_count": 32,
   "metadata": {},
   "outputs": [
    {
     "data": {
      "text/plain": [
       "True"
      ]
     },
     "execution_count": 32,
     "metadata": {},
     "output_type": "execute_result"
    }
   ],
   "source": [
    "f = 'Carte-didentite.jpg'\n",
    "filename = \"source_images/\" + f\n",
    "img = cv2.imread(filename)\n",
    "\n",
    "square = find_square(img, f)\n",
    "\n",
    "im_debug = cv2.drawContours(img.copy(), [square], -1, (0, 255, 0), 3)\n",
    "debug_image(im_debug, \"selected_contour\", f)\n",
    "\n",
    "img = fix_perspective(img, square)\n",
    "filename2 = \"fixed \" + f\n",
    "cv2.imwrite(filename2, img)"
   ]
  },
  {
   "cell_type": "markdown",
   "metadata": {},
   "source": [
    "## Lecture extraction des informations\n",
    "on lit les informations de 2 manières \"différentes\", la 2e semble plus efficace généralement mais dans certains cas la première est plus efficace"
   ]
  },
  {
   "cell_type": "code",
   "execution_count": 21,
   "metadata": {},
   "outputs": [
    {
     "ename": "TesseractNotFoundError",
     "evalue": "tesseract is not installed or it's not in your PATH. See README file for more information.",
     "output_type": "error",
     "traceback": [
      "\u001b[0;31m---------------------------------------------------------------------------\u001b[0m",
      "\u001b[0;31mFileNotFoundError\u001b[0m                         Traceback (most recent call last)",
      "\u001b[0;32m~/anaconda3/envs/hgp/lib/python3.8/site-packages/pytesseract/pytesseract.py\u001b[0m in \u001b[0;36mrun_tesseract\u001b[0;34m(input_filename, output_filename_base, extension, lang, config, nice, timeout)\u001b[0m\n\u001b[1;32m    254\u001b[0m     \u001b[0;32mtry\u001b[0m\u001b[0;34m:\u001b[0m\u001b[0;34m\u001b[0m\u001b[0;34m\u001b[0m\u001b[0m\n\u001b[0;32m--> 255\u001b[0;31m         \u001b[0mproc\u001b[0m \u001b[0;34m=\u001b[0m \u001b[0msubprocess\u001b[0m\u001b[0;34m.\u001b[0m\u001b[0mPopen\u001b[0m\u001b[0;34m(\u001b[0m\u001b[0mcmd_args\u001b[0m\u001b[0;34m,\u001b[0m \u001b[0;34m**\u001b[0m\u001b[0msubprocess_args\u001b[0m\u001b[0;34m(\u001b[0m\u001b[0;34m)\u001b[0m\u001b[0;34m)\u001b[0m\u001b[0;34m\u001b[0m\u001b[0;34m\u001b[0m\u001b[0m\n\u001b[0m\u001b[1;32m    256\u001b[0m     \u001b[0;32mexcept\u001b[0m \u001b[0mOSError\u001b[0m \u001b[0;32mas\u001b[0m \u001b[0me\u001b[0m\u001b[0;34m:\u001b[0m\u001b[0;34m\u001b[0m\u001b[0;34m\u001b[0m\u001b[0m\n",
      "\u001b[0;32m~/anaconda3/envs/hgp/lib/python3.8/subprocess.py\u001b[0m in \u001b[0;36m__init__\u001b[0;34m(self, args, bufsize, executable, stdin, stdout, stderr, preexec_fn, close_fds, shell, cwd, env, universal_newlines, startupinfo, creationflags, restore_signals, start_new_session, pass_fds, encoding, errors, text)\u001b[0m\n\u001b[1;32m    853\u001b[0m \u001b[0;34m\u001b[0m\u001b[0m\n\u001b[0;32m--> 854\u001b[0;31m             self._execute_child(args, executable, preexec_fn, close_fds,\n\u001b[0m\u001b[1;32m    855\u001b[0m                                 \u001b[0mpass_fds\u001b[0m\u001b[0;34m,\u001b[0m \u001b[0mcwd\u001b[0m\u001b[0;34m,\u001b[0m \u001b[0menv\u001b[0m\u001b[0;34m,\u001b[0m\u001b[0;34m\u001b[0m\u001b[0;34m\u001b[0m\u001b[0m\n",
      "\u001b[0;32m~/anaconda3/envs/hgp/lib/python3.8/subprocess.py\u001b[0m in \u001b[0;36m_execute_child\u001b[0;34m(self, args, executable, preexec_fn, close_fds, pass_fds, cwd, env, startupinfo, creationflags, shell, p2cread, p2cwrite, c2pread, c2pwrite, errread, errwrite, restore_signals, start_new_session)\u001b[0m\n\u001b[1;32m   1701\u001b[0m                         \u001b[0merr_msg\u001b[0m \u001b[0;34m=\u001b[0m \u001b[0mos\u001b[0m\u001b[0;34m.\u001b[0m\u001b[0mstrerror\u001b[0m\u001b[0;34m(\u001b[0m\u001b[0merrno_num\u001b[0m\u001b[0;34m)\u001b[0m\u001b[0;34m\u001b[0m\u001b[0;34m\u001b[0m\u001b[0m\n\u001b[0;32m-> 1702\u001b[0;31m                     \u001b[0;32mraise\u001b[0m \u001b[0mchild_exception_type\u001b[0m\u001b[0;34m(\u001b[0m\u001b[0merrno_num\u001b[0m\u001b[0;34m,\u001b[0m \u001b[0merr_msg\u001b[0m\u001b[0;34m,\u001b[0m \u001b[0merr_filename\u001b[0m\u001b[0;34m)\u001b[0m\u001b[0;34m\u001b[0m\u001b[0;34m\u001b[0m\u001b[0m\n\u001b[0m\u001b[1;32m   1703\u001b[0m                 \u001b[0;32mraise\u001b[0m \u001b[0mchild_exception_type\u001b[0m\u001b[0;34m(\u001b[0m\u001b[0merr_msg\u001b[0m\u001b[0;34m)\u001b[0m\u001b[0;34m\u001b[0m\u001b[0;34m\u001b[0m\u001b[0m\n",
      "\u001b[0;31mFileNotFoundError\u001b[0m: [Errno 2] No such file or directory: 'tesseract'",
      "\nDuring handling of the above exception, another exception occurred:\n",
      "\u001b[0;31mTesseractNotFoundError\u001b[0m                    Traceback (most recent call last)",
      "\u001b[0;32m<ipython-input-21-fcfd6c84249c>\u001b[0m in \u001b[0;36m<module>\u001b[0;34m\u001b[0m\n\u001b[1;32m      1\u001b[0m \u001b[0;32mimport\u001b[0m \u001b[0mpytesseract\u001b[0m\u001b[0;34m\u001b[0m\u001b[0;34m\u001b[0m\u001b[0m\n\u001b[0;32m----> 2\u001b[0;31m \u001b[0mtext1\u001b[0m \u001b[0;34m=\u001b[0m \u001b[0mpytesseract\u001b[0m\u001b[0;34m.\u001b[0m\u001b[0mimage_to_string\u001b[0m\u001b[0;34m(\u001b[0m\u001b[0mimg\u001b[0m\u001b[0;34m,\u001b[0m \u001b[0mlang\u001b[0m\u001b[0;34m=\u001b[0m\u001b[0;34m\"fra\"\u001b[0m\u001b[0;34m,\u001b[0m \u001b[0mconfig\u001b[0m\u001b[0;34m=\u001b[0m\u001b[0;34m\"--psm 6 --oem 2\"\u001b[0m\u001b[0;34m)\u001b[0m\u001b[0;34m\u001b[0m\u001b[0;34m\u001b[0m\u001b[0m\n\u001b[0m\u001b[1;32m      3\u001b[0m \u001b[0mtext2\u001b[0m \u001b[0;34m=\u001b[0m \u001b[0mpytesseract\u001b[0m\u001b[0;34m.\u001b[0m\u001b[0mimage_to_data\u001b[0m\u001b[0;34m(\u001b[0m\u001b[0mimg\u001b[0m\u001b[0;34m,\u001b[0m \u001b[0mlang\u001b[0m\u001b[0;34m=\u001b[0m\u001b[0;34m\"fra\"\u001b[0m\u001b[0;34m,\u001b[0m \u001b[0moutput_type\u001b[0m\u001b[0;34m=\u001b[0m\u001b[0;34m'data.frame'\u001b[0m\u001b[0;34m)\u001b[0m\u001b[0;34m\u001b[0m\u001b[0;34m\u001b[0m\u001b[0m\n\u001b[1;32m      4\u001b[0m \u001b[0mprint\u001b[0m\u001b[0;34m(\u001b[0m\u001b[0mtext1\u001b[0m\u001b[0;34m)\u001b[0m\u001b[0;34m\u001b[0m\u001b[0;34m\u001b[0m\u001b[0m\n\u001b[1;32m      5\u001b[0m \u001b[0mtext\u001b[0m \u001b[0;34m=\u001b[0m \u001b[0mtext2\u001b[0m\u001b[0;34m[\u001b[0m\u001b[0mtext2\u001b[0m\u001b[0;34m.\u001b[0m\u001b[0mconf\u001b[0m \u001b[0;34m!=\u001b[0m \u001b[0;34m-\u001b[0m\u001b[0;36m1\u001b[0m\u001b[0;34m]\u001b[0m\u001b[0;34m\u001b[0m\u001b[0;34m\u001b[0m\u001b[0m\n",
      "\u001b[0;32m~/anaconda3/envs/hgp/lib/python3.8/site-packages/pytesseract/pytesseract.py\u001b[0m in \u001b[0;36mimage_to_string\u001b[0;34m(image, lang, config, nice, output_type, timeout)\u001b[0m\n\u001b[1;32m    407\u001b[0m     \u001b[0margs\u001b[0m \u001b[0;34m=\u001b[0m \u001b[0;34m[\u001b[0m\u001b[0mimage\u001b[0m\u001b[0;34m,\u001b[0m \u001b[0;34m'txt'\u001b[0m\u001b[0;34m,\u001b[0m \u001b[0mlang\u001b[0m\u001b[0;34m,\u001b[0m \u001b[0mconfig\u001b[0m\u001b[0;34m,\u001b[0m \u001b[0mnice\u001b[0m\u001b[0;34m,\u001b[0m \u001b[0mtimeout\u001b[0m\u001b[0;34m]\u001b[0m\u001b[0;34m\u001b[0m\u001b[0;34m\u001b[0m\u001b[0m\n\u001b[1;32m    408\u001b[0m \u001b[0;34m\u001b[0m\u001b[0m\n\u001b[0;32m--> 409\u001b[0;31m     return {\n\u001b[0m\u001b[1;32m    410\u001b[0m         \u001b[0mOutput\u001b[0m\u001b[0;34m.\u001b[0m\u001b[0mBYTES\u001b[0m\u001b[0;34m:\u001b[0m \u001b[0;32mlambda\u001b[0m\u001b[0;34m:\u001b[0m \u001b[0mrun_and_get_output\u001b[0m\u001b[0;34m(\u001b[0m\u001b[0;34m*\u001b[0m\u001b[0;34m(\u001b[0m\u001b[0margs\u001b[0m \u001b[0;34m+\u001b[0m \u001b[0;34m[\u001b[0m\u001b[0;32mTrue\u001b[0m\u001b[0;34m]\u001b[0m\u001b[0;34m)\u001b[0m\u001b[0;34m)\u001b[0m\u001b[0;34m,\u001b[0m\u001b[0;34m\u001b[0m\u001b[0;34m\u001b[0m\u001b[0m\n\u001b[1;32m    411\u001b[0m         \u001b[0mOutput\u001b[0m\u001b[0;34m.\u001b[0m\u001b[0mDICT\u001b[0m\u001b[0;34m:\u001b[0m \u001b[0;32mlambda\u001b[0m\u001b[0;34m:\u001b[0m \u001b[0;34m{\u001b[0m\u001b[0;34m'text'\u001b[0m\u001b[0;34m:\u001b[0m \u001b[0mrun_and_get_output\u001b[0m\u001b[0;34m(\u001b[0m\u001b[0;34m*\u001b[0m\u001b[0margs\u001b[0m\u001b[0;34m)\u001b[0m\u001b[0;34m}\u001b[0m\u001b[0;34m,\u001b[0m\u001b[0;34m\u001b[0m\u001b[0;34m\u001b[0m\u001b[0m\n",
      "\u001b[0;32m~/anaconda3/envs/hgp/lib/python3.8/site-packages/pytesseract/pytesseract.py\u001b[0m in \u001b[0;36m<lambda>\u001b[0;34m()\u001b[0m\n\u001b[1;32m    410\u001b[0m         \u001b[0mOutput\u001b[0m\u001b[0;34m.\u001b[0m\u001b[0mBYTES\u001b[0m\u001b[0;34m:\u001b[0m \u001b[0;32mlambda\u001b[0m\u001b[0;34m:\u001b[0m \u001b[0mrun_and_get_output\u001b[0m\u001b[0;34m(\u001b[0m\u001b[0;34m*\u001b[0m\u001b[0;34m(\u001b[0m\u001b[0margs\u001b[0m \u001b[0;34m+\u001b[0m \u001b[0;34m[\u001b[0m\u001b[0;32mTrue\u001b[0m\u001b[0;34m]\u001b[0m\u001b[0;34m)\u001b[0m\u001b[0;34m)\u001b[0m\u001b[0;34m,\u001b[0m\u001b[0;34m\u001b[0m\u001b[0;34m\u001b[0m\u001b[0m\n\u001b[1;32m    411\u001b[0m         \u001b[0mOutput\u001b[0m\u001b[0;34m.\u001b[0m\u001b[0mDICT\u001b[0m\u001b[0;34m:\u001b[0m \u001b[0;32mlambda\u001b[0m\u001b[0;34m:\u001b[0m \u001b[0;34m{\u001b[0m\u001b[0;34m'text'\u001b[0m\u001b[0;34m:\u001b[0m \u001b[0mrun_and_get_output\u001b[0m\u001b[0;34m(\u001b[0m\u001b[0;34m*\u001b[0m\u001b[0margs\u001b[0m\u001b[0;34m)\u001b[0m\u001b[0;34m}\u001b[0m\u001b[0;34m,\u001b[0m\u001b[0;34m\u001b[0m\u001b[0;34m\u001b[0m\u001b[0m\n\u001b[0;32m--> 412\u001b[0;31m         \u001b[0mOutput\u001b[0m\u001b[0;34m.\u001b[0m\u001b[0mSTRING\u001b[0m\u001b[0;34m:\u001b[0m \u001b[0;32mlambda\u001b[0m\u001b[0;34m:\u001b[0m \u001b[0mrun_and_get_output\u001b[0m\u001b[0;34m(\u001b[0m\u001b[0;34m*\u001b[0m\u001b[0margs\u001b[0m\u001b[0;34m)\u001b[0m\u001b[0;34m,\u001b[0m\u001b[0;34m\u001b[0m\u001b[0;34m\u001b[0m\u001b[0m\n\u001b[0m\u001b[1;32m    413\u001b[0m     }[output_type]()\n\u001b[1;32m    414\u001b[0m \u001b[0;34m\u001b[0m\u001b[0m\n",
      "\u001b[0;32m~/anaconda3/envs/hgp/lib/python3.8/site-packages/pytesseract/pytesseract.py\u001b[0m in \u001b[0;36mrun_and_get_output\u001b[0;34m(image, extension, lang, config, nice, timeout, return_bytes)\u001b[0m\n\u001b[1;32m    285\u001b[0m         }\n\u001b[1;32m    286\u001b[0m \u001b[0;34m\u001b[0m\u001b[0m\n\u001b[0;32m--> 287\u001b[0;31m         \u001b[0mrun_tesseract\u001b[0m\u001b[0;34m(\u001b[0m\u001b[0;34m**\u001b[0m\u001b[0mkwargs\u001b[0m\u001b[0;34m)\u001b[0m\u001b[0;34m\u001b[0m\u001b[0;34m\u001b[0m\u001b[0m\n\u001b[0m\u001b[1;32m    288\u001b[0m         \u001b[0mfilename\u001b[0m \u001b[0;34m=\u001b[0m \u001b[0mkwargs\u001b[0m\u001b[0;34m[\u001b[0m\u001b[0;34m'output_filename_base'\u001b[0m\u001b[0;34m]\u001b[0m \u001b[0;34m+\u001b[0m \u001b[0mextsep\u001b[0m \u001b[0;34m+\u001b[0m \u001b[0mextension\u001b[0m\u001b[0;34m\u001b[0m\u001b[0;34m\u001b[0m\u001b[0m\n\u001b[1;32m    289\u001b[0m         \u001b[0;32mwith\u001b[0m \u001b[0mopen\u001b[0m\u001b[0;34m(\u001b[0m\u001b[0mfilename\u001b[0m\u001b[0;34m,\u001b[0m \u001b[0;34m'rb'\u001b[0m\u001b[0;34m)\u001b[0m \u001b[0;32mas\u001b[0m \u001b[0moutput_file\u001b[0m\u001b[0;34m:\u001b[0m\u001b[0;34m\u001b[0m\u001b[0;34m\u001b[0m\u001b[0m\n",
      "\u001b[0;32m~/anaconda3/envs/hgp/lib/python3.8/site-packages/pytesseract/pytesseract.py\u001b[0m in \u001b[0;36mrun_tesseract\u001b[0;34m(input_filename, output_filename_base, extension, lang, config, nice, timeout)\u001b[0m\n\u001b[1;32m    257\u001b[0m         \u001b[0;32mif\u001b[0m \u001b[0me\u001b[0m\u001b[0;34m.\u001b[0m\u001b[0merrno\u001b[0m \u001b[0;34m!=\u001b[0m \u001b[0mENOENT\u001b[0m\u001b[0;34m:\u001b[0m\u001b[0;34m\u001b[0m\u001b[0;34m\u001b[0m\u001b[0m\n\u001b[1;32m    258\u001b[0m             \u001b[0;32mraise\u001b[0m \u001b[0me\u001b[0m\u001b[0;34m\u001b[0m\u001b[0;34m\u001b[0m\u001b[0m\n\u001b[0;32m--> 259\u001b[0;31m         \u001b[0;32mraise\u001b[0m \u001b[0mTesseractNotFoundError\u001b[0m\u001b[0;34m(\u001b[0m\u001b[0;34m)\u001b[0m\u001b[0;34m\u001b[0m\u001b[0;34m\u001b[0m\u001b[0m\n\u001b[0m\u001b[1;32m    260\u001b[0m \u001b[0;34m\u001b[0m\u001b[0m\n\u001b[1;32m    261\u001b[0m     \u001b[0;32mwith\u001b[0m \u001b[0mtimeout_manager\u001b[0m\u001b[0;34m(\u001b[0m\u001b[0mproc\u001b[0m\u001b[0;34m,\u001b[0m \u001b[0mtimeout\u001b[0m\u001b[0;34m)\u001b[0m \u001b[0;32mas\u001b[0m \u001b[0merror_string\u001b[0m\u001b[0;34m:\u001b[0m\u001b[0;34m\u001b[0m\u001b[0;34m\u001b[0m\u001b[0m\n",
      "\u001b[0;31mTesseractNotFoundError\u001b[0m: tesseract is not installed or it's not in your PATH. See README file for more information."
     ]
    }
   ],
   "source": [
    "import pytesseract\n",
    "text1 = pytesseract.image_to_string(img, lang=\"fra\", config=\"--psm 6 --oem 2\")\n",
    "text2 = pytesseract.image_to_data(img, lang=\"fra\", output_type='data.frame')\n",
    "print(text1)\n",
    "text = text2[text2.conf != -1]\n",
    "lines = text.groupby('block_num')['text'].apply(list)\n",
    "print()\n",
    "for i in range(len(lines)):\n",
    "    print(\"niveau\", i, \": \", lines.iloc[i])"
   ]
  }
 ],
 "metadata": {
  "kernelspec": {
   "display_name": "Python 3",
   "language": "python",
   "name": "python3"
  },
  "language_info": {
   "codemirror_mode": {
    "name": "ipython",
    "version": 3
   },
   "file_extension": ".py",
   "mimetype": "text/x-python",
   "name": "python",
   "nbconvert_exporter": "python",
   "pygments_lexer": "ipython3",
   "version": "3.8.6"
  }
 },
 "nbformat": 4,
 "nbformat_minor": 4
}
